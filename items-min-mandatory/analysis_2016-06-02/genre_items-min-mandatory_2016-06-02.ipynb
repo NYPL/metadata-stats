{
 "cells": [
  {
   "cell_type": "markdown",
   "metadata": {},
   "source": [
    "# 📦 genre\n",
    "\n",
    "[genre_1](#genre_1)\n",
    "- [get overall pass/fail scores](#g1_all)\n",
    "- [get pass/fail scores by division](#g1_scoresbydiv)\n",
    "- [look at failing scores by collection](#g1_scoresbycoll)\n",
    "- [look at failing scores within a collection](#g1_scoresincoll)\n",
    "\n",
    "[genre_2](#genre_2)\n",
    "- [get overall pass/fail scores](#g2_all)\n",
    "- [get pass/fail scores by division](#g2_scoresbydiv)\n",
    "- [look at failing scores by collection](#g2_scoresbycoll)\n",
    "- [look at failing scores within a collection](#g2_scoresincoll)\n",
    "\n",
    "[co-occurrences](#co)"
   ]
  },
  {
   "cell_type": "code",
   "execution_count": 1,
   "metadata": {
    "collapsed": true
   },
   "outputs": [],
   "source": [
    "import pandas as pd\n",
    "import numpy as np\n",
    "import matplotlib.pyplot as plt\n",
    "%matplotlib inline\n",
    "df = pd.read_csv('min-mandatory-score_2016-07-08.csv')"
   ]
  },
  {
   "cell_type": "code",
   "execution_count": 2,
   "metadata": {
    "collapsed": false
   },
   "outputs": [
    {
     "name": "stdout",
     "output_type": "stream",
     "text": [
      "<class 'pandas.core.frame.DataFrame'>\n",
      "Int64Index: 965066 entries, 0 to 965065\n",
      "Data columns (total 25 columns):\n",
      "uuid              965066 non-null object\n",
      "mms_id            965066 non-null int64\n",
      "mms_type          965066 non-null object\n",
      "coll_id           962212 non-null float64\n",
      "division          965066 non-null object\n",
      "title_1           965066 non-null int64\n",
      "title_2           965066 non-null int64\n",
      "title             965066 non-null float64\n",
      "typeOfResource    965066 non-null int64\n",
      "genre_1           965066 non-null int64\n",
      "genre_2           965066 non-null int64\n",
      "genre             965066 non-null float64\n",
      "date_1            965066 non-null int64\n",
      "date_2            965066 non-null int64\n",
      "date_3            965066 non-null int64\n",
      "date_4            965066 non-null int64\n",
      "date              965066 non-null float64\n",
      "identifier        965066 non-null int64\n",
      "location_1        965066 non-null int64\n",
      "location_2        965066 non-null int64\n",
      "location_3        965066 non-null int64\n",
      "location_4        965066 non-null int64\n",
      "location_5        965066 non-null int64\n",
      "location          965066 non-null float64\n",
      "total_min_mand    965066 non-null float64\n",
      "dtypes: float64(6), int64(16), object(3)\n",
      "memory usage: 191.4+ MB\n"
     ]
    }
   ],
   "source": [
    "# testing 1-2 1-2\n",
    "df.info()"
   ]
  },
  {
   "cell_type": "code",
   "execution_count": 3,
   "metadata": {
    "collapsed": false,
    "scrolled": false
   },
   "outputs": [
    {
     "data": {
      "text/html": [
       "<div style=\"max-height:1000px;max-width:1500px;overflow:auto;\">\n",
       "<table border=\"1\" class=\"dataframe\">\n",
       "  <thead>\n",
       "    <tr style=\"text-align: right;\">\n",
       "      <th></th>\n",
       "      <th>title_1</th>\n",
       "      <th>typeOfResource</th>\n",
       "      <th>identifier</th>\n",
       "      <th>date_1</th>\n",
       "      <th>genre_1</th>\n",
       "      <th>location_1</th>\n",
       "    </tr>\n",
       "  </thead>\n",
       "  <tbody>\n",
       "    <tr>\n",
       "      <th>count</th>\n",
       "      <td> 965066.000000</td>\n",
       "      <td> 965066.000000</td>\n",
       "      <td> 965066.000000</td>\n",
       "      <td> 965066.000000</td>\n",
       "      <td> 965066.000000</td>\n",
       "      <td> 965066.000000</td>\n",
       "    </tr>\n",
       "    <tr>\n",
       "      <th>mean</th>\n",
       "      <td>      0.999995</td>\n",
       "      <td>      0.981278</td>\n",
       "      <td>      0.592315</td>\n",
       "      <td>      0.598546</td>\n",
       "      <td>      0.753671</td>\n",
       "      <td>      0.917343</td>\n",
       "    </tr>\n",
       "    <tr>\n",
       "      <th>std</th>\n",
       "      <td>      0.002276</td>\n",
       "      <td>      0.135542</td>\n",
       "      <td>      0.491404</td>\n",
       "      <td>      0.490193</td>\n",
       "      <td>      0.430873</td>\n",
       "      <td>      0.275362</td>\n",
       "    </tr>\n",
       "    <tr>\n",
       "      <th>min</th>\n",
       "      <td>      0.000000</td>\n",
       "      <td>      0.000000</td>\n",
       "      <td>      0.000000</td>\n",
       "      <td>      0.000000</td>\n",
       "      <td>      0.000000</td>\n",
       "      <td>      0.000000</td>\n",
       "    </tr>\n",
       "    <tr>\n",
       "      <th>25%</th>\n",
       "      <td>      1.000000</td>\n",
       "      <td>      1.000000</td>\n",
       "      <td>      0.000000</td>\n",
       "      <td>      0.000000</td>\n",
       "      <td>      1.000000</td>\n",
       "      <td>      1.000000</td>\n",
       "    </tr>\n",
       "    <tr>\n",
       "      <th>50%</th>\n",
       "      <td>      1.000000</td>\n",
       "      <td>      1.000000</td>\n",
       "      <td>      1.000000</td>\n",
       "      <td>      1.000000</td>\n",
       "      <td>      1.000000</td>\n",
       "      <td>      1.000000</td>\n",
       "    </tr>\n",
       "    <tr>\n",
       "      <th>75%</th>\n",
       "      <td>      1.000000</td>\n",
       "      <td>      1.000000</td>\n",
       "      <td>      1.000000</td>\n",
       "      <td>      1.000000</td>\n",
       "      <td>      1.000000</td>\n",
       "      <td>      1.000000</td>\n",
       "    </tr>\n",
       "    <tr>\n",
       "      <th>max</th>\n",
       "      <td>      1.000000</td>\n",
       "      <td>      1.000000</td>\n",
       "      <td>      1.000000</td>\n",
       "      <td>      1.000000</td>\n",
       "      <td>      1.000000</td>\n",
       "      <td>      1.000000</td>\n",
       "    </tr>\n",
       "  </tbody>\n",
       "</table>\n",
       "</div>"
      ],
      "text/plain": [
       "             title_1  typeOfResource     identifier         date_1  \\\n",
       "count  965066.000000   965066.000000  965066.000000  965066.000000   \n",
       "mean        0.999995        0.981278       0.592315       0.598546   \n",
       "std         0.002276        0.135542       0.491404       0.490193   \n",
       "min         0.000000        0.000000       0.000000       0.000000   \n",
       "25%         1.000000        1.000000       0.000000       0.000000   \n",
       "50%         1.000000        1.000000       1.000000       1.000000   \n",
       "75%         1.000000        1.000000       1.000000       1.000000   \n",
       "max         1.000000        1.000000       1.000000       1.000000   \n",
       "\n",
       "             genre_1     location_1  \n",
       "count  965066.000000  965066.000000  \n",
       "mean        0.753671       0.917343  \n",
       "std         0.430873       0.275362  \n",
       "min         0.000000       0.000000  \n",
       "25%         1.000000       1.000000  \n",
       "50%         1.000000       1.000000  \n",
       "75%         1.000000       1.000000  \n",
       "max         1.000000       1.000000  "
      ]
     },
     "execution_count": 3,
     "metadata": {},
     "output_type": "execute_result"
    }
   ],
   "source": [
    "# check that basic completeness scores look OK\n",
    "df[['title_1','typeOfResource', 'identifier', 'date_1', 'genre_1', 'location_1']].describe()"
   ]
  },
  {
   "cell_type": "markdown",
   "metadata": {},
   "source": [
    "##genre_1<a id=\"genre_1\"></a>\n",
    "####assertion: presence of at least one genre element\n",
    "- [get overall pass/fail scores](#g1_all)\n",
    "- [get pass/fail scores by division](#g1_scoresbydiv)\n",
    "- [look at failing scores by collection](#g1_scoresbycoll)\n",
    "- [look at failing scores within a collection](#g1_scoresincoll)\n"
   ]
  },
  {
   "cell_type": "markdown",
   "metadata": {},
   "source": [
    "####get overall pass/fail scores<a id=\"g1_all\"></a>"
   ]
  },
  {
   "cell_type": "code",
   "execution_count": 4,
   "metadata": {
    "collapsed": false
   },
   "outputs": [
    {
     "data": {
      "text/plain": [
       "1    727342\n",
       "0    237724\n",
       "dtype: int64"
      ]
     },
     "execution_count": 4,
     "metadata": {},
     "output_type": "execute_result"
    }
   ],
   "source": [
    "df.genre_1.value_counts()"
   ]
  },
  {
   "cell_type": "markdown",
   "metadata": {},
   "source": [
    "####look at failing scores by division<a id=\"g1_scoresbydiv\"></a>"
   ]
  },
  {
   "cell_type": "code",
   "execution_count": 5,
   "metadata": {
    "collapsed": false
   },
   "outputs": [
    {
     "data": {
      "text/html": [
       "<div style=\"max-height:1000px;max-width:1500px;overflow:auto;\">\n",
       "<table border=\"1\" class=\"dataframe\">\n",
       "  <thead>\n",
       "    <tr>\n",
       "      <th></th>\n",
       "      <th colspan=\"2\" halign=\"left\">genre_1</th>\n",
       "    </tr>\n",
       "    <tr>\n",
       "      <th>genre_1</th>\n",
       "      <th>0</th>\n",
       "      <th>1</th>\n",
       "    </tr>\n",
       "    <tr>\n",
       "      <th>division</th>\n",
       "      <th></th>\n",
       "      <th></th>\n",
       "    </tr>\n",
       "  </thead>\n",
       "  <tbody>\n",
       "    <tr>\n",
       "      <th>Art and Picture Collection</th>\n",
       "      <td> 33263</td>\n",
       "      <td>  11259</td>\n",
       "    </tr>\n",
       "    <tr>\n",
       "      <th>Billy Rose Theatre Division</th>\n",
       "      <td>  7275</td>\n",
       "      <td> 157149</td>\n",
       "    </tr>\n",
       "    <tr>\n",
       "      <th>Carl H. Pforzheimer Collection of Shelley and His Circle</th>\n",
       "      <td> 14525</td>\n",
       "      <td>   2162</td>\n",
       "    </tr>\n",
       "    <tr>\n",
       "      <th>Children's Center at 42nd St</th>\n",
       "      <td>    37</td>\n",
       "      <td>      4</td>\n",
       "    </tr>\n",
       "    <tr>\n",
       "      <th>Dorot Jewish Division</th>\n",
       "      <td>  2148</td>\n",
       "      <td>   4934</td>\n",
       "    </tr>\n",
       "    <tr>\n",
       "      <th>Dorothy and Lewis B. Cullman Center for Scholars &amp; Writers</th>\n",
       "      <td>     0</td>\n",
       "      <td>     81</td>\n",
       "    </tr>\n",
       "    <tr>\n",
       "      <th>General Research Division</th>\n",
       "      <td> 37070</td>\n",
       "      <td>  14710</td>\n",
       "    </tr>\n",
       "    <tr>\n",
       "      <th>George Arents Collection</th>\n",
       "      <td>   807</td>\n",
       "      <td> 102123</td>\n",
       "    </tr>\n",
       "    <tr>\n",
       "      <th>Henry W. and Albert A. Berg Collection of English and American Literature</th>\n",
       "      <td>  3340</td>\n",
       "      <td>   9715</td>\n",
       "    </tr>\n",
       "    <tr>\n",
       "      <th>Irma and Paul Milstein Division of United States History, Local History and Genealogy</th>\n",
       "      <td>  6954</td>\n",
       "      <td>  43049</td>\n",
       "    </tr>\n",
       "    <tr>\n",
       "      <th>Jerome Robbins Dance Division</th>\n",
       "      <td>  5591</td>\n",
       "      <td>   6225</td>\n",
       "    </tr>\n",
       "    <tr>\n",
       "      <th>Jerome Robbins Dance Division - Audio and Moving Image</th>\n",
       "      <td>  2342</td>\n",
       "      <td>   6209</td>\n",
       "    </tr>\n",
       "    <tr>\n",
       "      <th>Lionel Pincus and Princess Firyal Map Division</th>\n",
       "      <td>  2351</td>\n",
       "      <td>  28953</td>\n",
       "    </tr>\n",
       "    <tr>\n",
       "      <th>Manuscripts and Archives Division</th>\n",
       "      <td> 27429</td>\n",
       "      <td>  50353</td>\n",
       "    </tr>\n",
       "    <tr>\n",
       "      <th>Music Division</th>\n",
       "      <td> 10759</td>\n",
       "      <td>  39648</td>\n",
       "    </tr>\n",
       "    <tr>\n",
       "      <th>New York Public Library Archives</th>\n",
       "      <td>  1223</td>\n",
       "      <td>   1276</td>\n",
       "    </tr>\n",
       "    <tr>\n",
       "      <th>Null</th>\n",
       "      <td>   168</td>\n",
       "      <td>    107</td>\n",
       "    </tr>\n",
       "    <tr>\n",
       "      <th>RHA</th>\n",
       "      <td>    48</td>\n",
       "      <td>      0</td>\n",
       "    </tr>\n",
       "    <tr>\n",
       "      <th>Rare Book Division</th>\n",
       "      <td>  5902</td>\n",
       "      <td>  29970</td>\n",
       "    </tr>\n",
       "    <tr>\n",
       "      <th>Rodgers and Hammerstein Archives of Recorded Sound</th>\n",
       "      <td>  1519</td>\n",
       "      <td>     39</td>\n",
       "    </tr>\n",
       "    <tr>\n",
       "      <th>Schomburg Center for Research in Black Culture, Art and Artifacts Division</th>\n",
       "      <td>     8</td>\n",
       "      <td>   1577</td>\n",
       "    </tr>\n",
       "    <tr>\n",
       "      <th>Schomburg Center for Research in Black Culture, Jean Blackwell Hutson Research and Reference Division</th>\n",
       "      <td>  4725</td>\n",
       "      <td>   1976</td>\n",
       "    </tr>\n",
       "    <tr>\n",
       "      <th>Schomburg Center for Research in Black Culture, Manuscripts, Archives and Rare Books Division</th>\n",
       "      <td>  8517</td>\n",
       "      <td>   3083</td>\n",
       "    </tr>\n",
       "    <tr>\n",
       "      <th>Schomburg Center for Research in Black Culture, Moving Image and Recorded Sound Division</th>\n",
       "      <td>    23</td>\n",
       "      <td>      0</td>\n",
       "    </tr>\n",
       "    <tr>\n",
       "      <th>Schomburg Center for Research in Black Culture, Photographs and Prints Division</th>\n",
       "      <td>  1293</td>\n",
       "      <td>   3103</td>\n",
       "    </tr>\n",
       "    <tr>\n",
       "      <th>Schomburg General Research and Reference Division</th>\n",
       "      <td>   497</td>\n",
       "      <td>      1</td>\n",
       "    </tr>\n",
       "    <tr>\n",
       "      <th>Science, Industry and Business Library: General Collection</th>\n",
       "      <td>  3669</td>\n",
       "      <td>   3096</td>\n",
       "    </tr>\n",
       "    <tr>\n",
       "      <th>Slavic and East European Collections</th>\n",
       "      <td> 16989</td>\n",
       "      <td>   7066</td>\n",
       "    </tr>\n",
       "    <tr>\n",
       "      <th>Spencer Collection</th>\n",
       "      <td>  8939</td>\n",
       "      <td>   3522</td>\n",
       "    </tr>\n",
       "    <tr>\n",
       "      <th>The Miriam and Ira D. Wallach Division of Art, Prints and Photographs: Art &amp; Architecture Collection</th>\n",
       "      <td>  7073</td>\n",
       "      <td>   6986</td>\n",
       "    </tr>\n",
       "    <tr>\n",
       "      <th>The Miriam and Ira D. Wallach Division of Art, Prints and Photographs: Photography Collection</th>\n",
       "      <td>  5872</td>\n",
       "      <td> 101372</td>\n",
       "    </tr>\n",
       "    <tr>\n",
       "      <th>The Miriam and Ira D. Wallach Division of Art, Prints and Photographs: Print Collection</th>\n",
       "      <td> 17364</td>\n",
       "      <td>  87594</td>\n",
       "    </tr>\n",
       "    <tr>\n",
       "      <th>Theatre on Film and Tape Archive</th>\n",
       "      <td>     1</td>\n",
       "      <td>      0</td>\n",
       "    </tr>\n",
       "    <tr>\n",
       "      <th>Unknown</th>\n",
       "      <td>     3</td>\n",
       "      <td>      0</td>\n",
       "    </tr>\n",
       "  </tbody>\n",
       "</table>\n",
       "</div>"
      ],
      "text/plain": [
       "                                                                                                      genre_1  \\\n",
       "genre_1                                                                                                     0   \n",
       "division                                                                                                        \n",
       "Art and Picture Collection                                                                              33263   \n",
       "Billy Rose Theatre Division                                                                              7275   \n",
       "Carl H. Pforzheimer Collection of Shelley and His Circle                                                14525   \n",
       "Children's Center at 42nd St                                                                               37   \n",
       "Dorot Jewish Division                                                                                    2148   \n",
       "Dorothy and Lewis B. Cullman Center for Scholars & Writers                                                  0   \n",
       "General Research Division                                                                               37070   \n",
       "George Arents Collection                                                                                  807   \n",
       "Henry W. and Albert A. Berg Collection of English and American Literature                                3340   \n",
       "Irma and Paul Milstein Division of United States History, Local History and Genealogy                    6954   \n",
       "Jerome Robbins Dance Division                                                                            5591   \n",
       "Jerome Robbins Dance Division - Audio and Moving Image                                                   2342   \n",
       "Lionel Pincus and Princess Firyal Map Division                                                           2351   \n",
       "Manuscripts and Archives Division                                                                       27429   \n",
       "Music Division                                                                                          10759   \n",
       "New York Public Library Archives                                                                         1223   \n",
       "Null                                                                                                      168   \n",
       "RHA                                                                                                        48   \n",
       "Rare Book Division                                                                                       5902   \n",
       "Rodgers and Hammerstein Archives of Recorded Sound                                                       1519   \n",
       "Schomburg Center for Research in Black Culture, Art and Artifacts Division                                  8   \n",
       "Schomburg Center for Research in Black Culture, Jean Blackwell Hutson Research and Reference Division    4725   \n",
       "Schomburg Center for Research in Black Culture, Manuscripts, Archives and Rare Books Division            8517   \n",
       "Schomburg Center for Research in Black Culture, Moving Image and Recorded Sound Division                   23   \n",
       "Schomburg Center for Research in Black Culture, Photographs and Prints Division                          1293   \n",
       "Schomburg General Research and Reference Division                                                         497   \n",
       "Science, Industry and Business Library: General Collection                                               3669   \n",
       "Slavic and East European Collections                                                                    16989   \n",
       "Spencer Collection                                                                                       8939   \n",
       "The Miriam and Ira D. Wallach Division of Art, Prints and Photographs: Art & Architecture Collection     7073   \n",
       "The Miriam and Ira D. Wallach Division of Art, Prints and Photographs: Photography Collection            5872   \n",
       "The Miriam and Ira D. Wallach Division of Art, Prints and Photographs: Print Collection                 17364   \n",
       "Theatre on Film and Tape Archive                                                                            1   \n",
       "Unknown                                                                                                     3   \n",
       "\n",
       "                                                                                                               \n",
       "genre_1                                                                                                     1  \n",
       "division                                                                                                       \n",
       "Art and Picture Collection                                                                              11259  \n",
       "Billy Rose Theatre Division                                                                            157149  \n",
       "Carl H. Pforzheimer Collection of Shelley and His Circle                                                 2162  \n",
       "Children's Center at 42nd St                                                                                4  \n",
       "Dorot Jewish Division                                                                                    4934  \n",
       "Dorothy and Lewis B. Cullman Center for Scholars & Writers                                                 81  \n",
       "General Research Division                                                                               14710  \n",
       "George Arents Collection                                                                               102123  \n",
       "Henry W. and Albert A. Berg Collection of English and American Literature                                9715  \n",
       "Irma and Paul Milstein Division of United States History, Local History and Genealogy                   43049  \n",
       "Jerome Robbins Dance Division                                                                            6225  \n",
       "Jerome Robbins Dance Division - Audio and Moving Image                                                   6209  \n",
       "Lionel Pincus and Princess Firyal Map Division                                                          28953  \n",
       "Manuscripts and Archives Division                                                                       50353  \n",
       "Music Division                                                                                          39648  \n",
       "New York Public Library Archives                                                                         1276  \n",
       "Null                                                                                                      107  \n",
       "RHA                                                                                                         0  \n",
       "Rare Book Division                                                                                      29970  \n",
       "Rodgers and Hammerstein Archives of Recorded Sound                                                         39  \n",
       "Schomburg Center for Research in Black Culture, Art and Artifacts Division                               1577  \n",
       "Schomburg Center for Research in Black Culture, Jean Blackwell Hutson Research and Reference Division    1976  \n",
       "Schomburg Center for Research in Black Culture, Manuscripts, Archives and Rare Books Division            3083  \n",
       "Schomburg Center for Research in Black Culture, Moving Image and Recorded Sound Division                    0  \n",
       "Schomburg Center for Research in Black Culture, Photographs and Prints Division                          3103  \n",
       "Schomburg General Research and Reference Division                                                           1  \n",
       "Science, Industry and Business Library: General Collection                                               3096  \n",
       "Slavic and East European Collections                                                                     7066  \n",
       "Spencer Collection                                                                                       3522  \n",
       "The Miriam and Ira D. Wallach Division of Art, Prints and Photographs: Art & Architecture Collection     6986  \n",
       "The Miriam and Ira D. Wallach Division of Art, Prints and Photographs: Photography Collection          101372  \n",
       "The Miriam and Ira D. Wallach Division of Art, Prints and Photographs: Print Collection                 87594  \n",
       "Theatre on Film and Tape Archive                                                                            0  \n",
       "Unknown                                                                                                     0  "
      ]
     },
     "execution_count": 5,
     "metadata": {},
     "output_type": "execute_result"
    }
   ],
   "source": [
    "# see genre_1 pass/fail by division\n",
    "genre_1_table = pd.pivot_table(df,index=['division'],columns=['genre_1'], aggfunc={'genre_1':len},fill_value=0)\n",
    "genre_1_table"
   ]
  },
  {
   "cell_type": "code",
   "execution_count": 6,
   "metadata": {
    "collapsed": false
   },
   "outputs": [
    {
     "data": {
      "text/plain": [
       "division\n",
       "General Research Division                                       37070\n",
       "Art and Picture Collection                                      33263\n",
       "Manuscripts and Archives Division                               27429\n",
       "The Miriam and Ira D. Wallach Division of Art, Prints and Photographs: Print Collection    17364\n",
       "Slavic and East European Collections                            16989\n",
       "Carl H. Pforzheimer Collection of Shelley and His Circle        14525\n",
       "Music Division                                                  10759\n",
       "Spencer Collection                                               8939\n",
       "Schomburg Center for Research in Black Culture, Manuscripts, Archives and Rare Books Division     8517\n",
       "Billy Rose Theatre Division                                      7275\n",
       "The Miriam and Ira D. Wallach Division of Art, Prints and Photographs: Art & Architecture Collection     7073\n",
       "Irma and Paul Milstein Division of United States History, Local History and Genealogy     6954\n",
       "Rare Book Division                                               5902\n",
       "The Miriam and Ira D. Wallach Division of Art, Prints and Photographs: Photography Collection     5872\n",
       "Jerome Robbins Dance Division                                    5591\n",
       "Schomburg Center for Research in Black Culture, Jean Blackwell Hutson Research and Reference Division     4725\n",
       "Science, Industry and Business Library: General Collection       3669\n",
       "Henry W. and Albert A. Berg Collection of English and American Literature     3340\n",
       "Lionel Pincus and Princess Firyal Map Division                   2351\n",
       "Jerome Robbins Dance Division - Audio and Moving Image           2342\n",
       "Dorot Jewish Division                                            2148\n",
       "Rodgers and Hammerstein Archives of Recorded Sound               1519\n",
       "Schomburg Center for Research in Black Culture, Photographs and Prints Division     1293\n",
       "New York Public Library Archives                                 1223\n",
       "George Arents Collection                                          807\n",
       "Schomburg General Research and Reference Division                 497\n",
       "Null                                                              168\n",
       "RHA                                                                48\n",
       "Children's Center at 42nd St                                       37\n",
       "Schomburg Center for Research in Black Culture, Moving Image and Recorded Sound Division       23\n",
       "Schomburg Center for Research in Black Culture, Art and Artifacts Division        8\n",
       "Unknown                                                             3\n",
       "Theatre on Film and Tape Archive                                    1\n",
       "Dorothy and Lewis B. Cullman Center for Scholars & Writers          0\n",
       "Name: failing_scores1, dtype: int64"
      ]
     },
     "execution_count": 6,
     "metadata": {},
     "output_type": "execute_result"
    }
   ],
   "source": [
    "# look at failing genre_1 scores by division in descending order\n",
    "# len = total rows and sum = rows that passed\n",
    "aggregation = {\n",
    "    'genre_1':{\n",
    "        'failing_scores1':lambda x:len(x)-sum(x)\n",
    "    }\n",
    "}\n",
    "# create dataframe that groups by division and aggregrate by dictionary\n",
    "failed_genres = df.groupby('division').agg(aggregation)\n",
    "# subtract scores from one column to the other\n",
    "failed_genre_1 = failed_genres['genre_1']['failing_scores1']\n",
    "failed_genre_1.order(ascending=False)"
   ]
  },
  {
   "cell_type": "markdown",
   "metadata": {},
   "source": [
    "####look at failing scores by collection<a id=\"g1_scoresbycoll\"></a>"
   ]
  },
  {
   "cell_type": "code",
   "execution_count": 2,
   "metadata": {
    "collapsed": false
   },
   "outputs": [
    {
     "data": {
      "text/html": [
       "<div style=\"max-height:1000px;max-width:1500px;overflow:auto;\">\n",
       "<table border=\"1\" class=\"dataframe\">\n",
       "  <thead>\n",
       "    <tr style=\"text-align: right;\">\n",
       "      <th></th>\n",
       "      <th>mms_id</th>\n",
       "      <th>coll_id</th>\n",
       "      <th>division</th>\n",
       "    </tr>\n",
       "  </thead>\n",
       "  <tbody>\n",
       "    <tr>\n",
       "      <th>1967  </th>\n",
       "      <td> 3017583</td>\n",
       "      <td> 25781</td>\n",
       "      <td> Manuscripts and Archives Division</td>\n",
       "    </tr>\n",
       "    <tr>\n",
       "      <th>801582</th>\n",
       "      <td> 4865830</td>\n",
       "      <td> 25781</td>\n",
       "      <td> Manuscripts and Archives Division</td>\n",
       "    </tr>\n",
       "    <tr>\n",
       "      <th>801581</th>\n",
       "      <td> 4865829</td>\n",
       "      <td> 25781</td>\n",
       "      <td> Manuscripts and Archives Division</td>\n",
       "    </tr>\n",
       "    <tr>\n",
       "      <th>801580</th>\n",
       "      <td> 4865828</td>\n",
       "      <td> 25781</td>\n",
       "      <td> Manuscripts and Archives Division</td>\n",
       "    </tr>\n",
       "    <tr>\n",
       "      <th>801579</th>\n",
       "      <td> 4865827</td>\n",
       "      <td> 25781</td>\n",
       "      <td> Manuscripts and Archives Division</td>\n",
       "    </tr>\n",
       "  </tbody>\n",
       "</table>\n",
       "</div>"
      ],
      "text/plain": [
       "         mms_id  coll_id                           division\n",
       "1967    3017583    25781  Manuscripts and Archives Division\n",
       "801582  4865830    25781  Manuscripts and Archives Division\n",
       "801581  4865829    25781  Manuscripts and Archives Division\n",
       "801580  4865828    25781  Manuscripts and Archives Division\n",
       "801579  4865827    25781  Manuscripts and Archives Division"
      ]
     },
     "execution_count": 2,
     "metadata": {},
     "output_type": "execute_result"
    }
   ],
   "source": [
    "# look at failing genre_1 scores by collection\n",
    "df[df['genre_1'] == 0.0][['mms_id', 'coll_id', 'division']].sort('coll_id').head()"
   ]
  },
  {
   "cell_type": "code",
   "execution_count": 5,
   "metadata": {
    "collapsed": false
   },
   "outputs": [
    {
     "data": {
      "text/html": [
       "<div style=\"max-height:1000px;max-width:1500px;overflow:auto;\">\n",
       "<table border=\"1\" class=\"dataframe\">\n",
       "  <thead>\n",
       "    <tr>\n",
       "      <th></th>\n",
       "      <th colspan=\"2\" halign=\"left\">genre_1</th>\n",
       "    </tr>\n",
       "    <tr>\n",
       "      <th>genre_1</th>\n",
       "      <th>0</th>\n",
       "      <th>1</th>\n",
       "    </tr>\n",
       "    <tr>\n",
       "      <th>coll_id</th>\n",
       "      <th></th>\n",
       "      <th></th>\n",
       "    </tr>\n",
       "  </thead>\n",
       "  <tbody>\n",
       "    <tr>\n",
       "      <th>25776</th>\n",
       "      <td>     0</td>\n",
       "      <td>    871</td>\n",
       "    </tr>\n",
       "    <tr>\n",
       "      <th>25779</th>\n",
       "      <td>     0</td>\n",
       "      <td> 100951</td>\n",
       "    </tr>\n",
       "    <tr>\n",
       "      <th>25780</th>\n",
       "      <td>     0</td>\n",
       "      <td>  80542</td>\n",
       "    </tr>\n",
       "    <tr>\n",
       "      <th>25781</th>\n",
       "      <td> 15790</td>\n",
       "      <td>      0</td>\n",
       "    </tr>\n",
       "    <tr>\n",
       "      <th>25782</th>\n",
       "      <td>     0</td>\n",
       "      <td>  72689</td>\n",
       "    </tr>\n",
       "  </tbody>\n",
       "</table>\n",
       "</div>"
      ],
      "text/plain": [
       "        genre_1        \n",
       "genre_1       0       1\n",
       "coll_id                \n",
       "25776         0     871\n",
       "25779         0  100951\n",
       "25780         0   80542\n",
       "25781     15790       0\n",
       "25782         0   72689"
      ]
     },
     "execution_count": 5,
     "metadata": {},
     "output_type": "execute_result"
    }
   ],
   "source": [
    "# look at genre_1 scores by collection\n",
    "genres_table = pd.pivot_table(df,index=['coll_id'],columns=['genre_1'],aggfunc={'genre_1':len},fill_value=0)\n",
    "genres_table.head()"
   ]
  },
  {
   "cell_type": "markdown",
   "metadata": {},
   "source": [
    "####look at failing scores within a collection<a id=\"g1_scoresincoll\"></a>"
   ]
  },
  {
   "cell_type": "code",
   "execution_count": 8,
   "metadata": {
    "collapsed": false
   },
   "outputs": [
    {
     "data": {
      "text/plain": [
       "mms_id      0\n",
       "coll_id     0\n",
       "division    0\n",
       "dtype: int64"
      ]
     },
     "execution_count": 8,
     "metadata": {},
     "output_type": "execute_result"
    }
   ],
   "source": [
    "# look at failing genre_1 scores within a collection\n",
    "fg1 = df[df['genre_1'] == 0.0][['mms_id', 'coll_id', 'division']]\n",
    "\n",
    "# 25792 is the Friedman-Abeles photograph collection\n",
    "fg1_25792 = fg1[fg1['coll_id'] == 25792][['mms_id','coll_id', 'division']].sort(['mms_id'])\n",
    "\n",
    "# use .count() for report stats; remove .count() for content\n",
    "fg1_25792.count()"
   ]
  },
  {
   "cell_type": "markdown",
   "metadata": {},
   "source": [
    "##genre_2<a id='genre_2'></a>\n",
    "####assertion: presence of an 'authority' attribute\n",
    "- [get overall pass/fail scores](#g2_all)\n",
    "- [get pass/fail scores by division](#g2_scoresbydiv)\n",
    "- [look at failing scores by collection](#g2_scoresbycoll)\n",
    "- [look at failing scores within a collection](#g2_scoresincoll)"
   ]
  },
  {
   "cell_type": "markdown",
   "metadata": {},
   "source": [
    "####get overall pass/fail scores<a id=\"g2_all\"></a>"
   ]
  },
  {
   "cell_type": "code",
   "execution_count": 9,
   "metadata": {
    "collapsed": false
   },
   "outputs": [
    {
     "data": {
      "text/plain": [
       "1    704468\n",
       "0    260598\n",
       "dtype: int64"
      ]
     },
     "execution_count": 9,
     "metadata": {},
     "output_type": "execute_result"
    }
   ],
   "source": [
    "df.genre_2.value_counts()"
   ]
  },
  {
   "cell_type": "markdown",
   "metadata": {},
   "source": [
    "####look at failing scores within a division<a id=\"g2_scoresbydiv\"></a>"
   ]
  },
  {
   "cell_type": "code",
   "execution_count": 10,
   "metadata": {
    "collapsed": false
   },
   "outputs": [
    {
     "data": {
      "text/plain": [
       "22874"
      ]
     },
     "execution_count": 10,
     "metadata": {},
     "output_type": "execute_result"
    }
   ],
   "source": [
    "# get number of records failing genre_2\n",
    "# records failing genre_2 will include those that failed genre_1, so we need to \n",
    "# calculate the difference between records that failed genre_2 and genre_1\n",
    "\n",
    "# len = total rows and sum = rows that passed\n",
    "aggregation = {\n",
    "    'genre_1':{\n",
    "        'failing_scores1':lambda x:len(x)-sum(x)\n",
    "        },\n",
    "    'genre_2':{\n",
    "        'failing_scores2':lambda x:len(x)-sum(x)\n",
    "    }\n",
    "}\n",
    "# create dataframe that groups by division and aggregrate by dictionary\n",
    "failed_genre2 = df.groupby('division').agg(aggregation)\n",
    "\n",
    "# subtract scores from one column to the other\n",
    "difference = failed_genre2['genre_2']['failing_scores2']-failed_genre2['genre_1']['failing_scores1']\n",
    "\n",
    "difference.sum()"
   ]
  },
  {
   "cell_type": "code",
   "execution_count": 11,
   "metadata": {
    "collapsed": false
   },
   "outputs": [
    {
     "data": {
      "text/plain": [
       "division\n",
       "The Miriam and Ira D. Wallach Division of Art, Prints and Photographs: Print Collection    8881\n",
       "General Research Division                                       6288\n",
       "Art and Picture Collection                                      1943\n",
       "The Miriam and Ira D. Wallach Division of Art, Prints and Photographs: Photography Collection     863\n",
       "The Miriam and Ira D. Wallach Division of Art, Prints and Photographs: Art & Architecture Collection     722\n",
       "Dorot Jewish Division                                            683\n",
       "Jerome Robbins Dance Division                                    587\n",
       "Schomburg Center for Research in Black Culture, Photographs and Prints Division     384\n",
       "Science, Industry and Business Library: General Collection       378\n",
       "Manuscripts and Archives Division                                333\n",
       "Henry W. and Albert A. Berg Collection of English and American Literature     332\n",
       "Billy Rose Theatre Division                                      231\n",
       "Schomburg Center for Research in Black Culture, Jean Blackwell Hutson Research and Reference Division     227\n",
       "George Arents Collection                                         222\n",
       "Carl H. Pforzheimer Collection of Shelley and His Circle         222\n",
       "Rare Book Division                                               175\n",
       "Slavic and East European Collections                             157\n",
       "Spencer Collection                                               134\n",
       "Schomburg Center for Research in Black Culture, Manuscripts, Archives and Rare Books Division      59\n",
       "Irma and Paul Milstein Division of United States History, Local History and Genealogy      31\n",
       "Lionel Pincus and Princess Firyal Map Division                    16\n",
       "Music Division                                                     4\n",
       "New York Public Library Archives                                   1\n",
       "Schomburg General Research and Reference Division                  1\n",
       "Children's Center at 42nd St                                       0\n",
       "Dorothy and Lewis B. Cullman Center for Scholars & Writers         0\n",
       "Unknown                                                            0\n",
       "Jerome Robbins Dance Division - Audio and Moving Image             0\n",
       "Theatre on Film and Tape Archive                                   0\n",
       "RHA                                                                0\n",
       "Rodgers and Hammerstein Archives of Recorded Sound                 0\n",
       "Schomburg Center for Research in Black Culture, Art and Artifacts Division       0\n",
       "Schomburg Center for Research in Black Culture, Moving Image and Recorded Sound Division       0\n",
       "Null                                                               0\n",
       "dtype: int64"
      ]
     },
     "execution_count": 11,
     "metadata": {},
     "output_type": "execute_result"
    }
   ],
   "source": [
    "difference.order(ascending=False)"
   ]
  },
  {
   "cell_type": "markdown",
   "metadata": {},
   "source": [
    "####look at failing scores by collection<a id=\"g2_scoresbycoll\"></a>"
   ]
  },
  {
   "cell_type": "code",
   "execution_count": 9,
   "metadata": {
    "collapsed": false
   },
   "outputs": [
    {
     "data": {
      "text/html": [
       "<div style=\"max-height:1000px;max-width:1500px;overflow:auto;\">\n",
       "<table border=\"1\" class=\"dataframe\">\n",
       "  <thead>\n",
       "    <tr style=\"text-align: right;\">\n",
       "      <th></th>\n",
       "      <th>mms_id</th>\n",
       "      <th>coll_id</th>\n",
       "      <th>division</th>\n",
       "    </tr>\n",
       "  </thead>\n",
       "  <tbody>\n",
       "    <tr>\n",
       "      <th>1967  </th>\n",
       "      <td> 3017583</td>\n",
       "      <td> 25781</td>\n",
       "      <td> Manuscripts and Archives Division</td>\n",
       "    </tr>\n",
       "    <tr>\n",
       "      <th>801375</th>\n",
       "      <td> 4865623</td>\n",
       "      <td> 25781</td>\n",
       "      <td> Manuscripts and Archives Division</td>\n",
       "    </tr>\n",
       "    <tr>\n",
       "      <th>45664 </th>\n",
       "      <td> 3087987</td>\n",
       "      <td> 25781</td>\n",
       "      <td> Manuscripts and Archives Division</td>\n",
       "    </tr>\n",
       "    <tr>\n",
       "      <th>801374</th>\n",
       "      <td> 4865622</td>\n",
       "      <td> 25781</td>\n",
       "      <td> Manuscripts and Archives Division</td>\n",
       "    </tr>\n",
       "    <tr>\n",
       "      <th>801373</th>\n",
       "      <td> 4865621</td>\n",
       "      <td> 25781</td>\n",
       "      <td> Manuscripts and Archives Division</td>\n",
       "    </tr>\n",
       "  </tbody>\n",
       "</table>\n",
       "</div>"
      ],
      "text/plain": [
       "         mms_id  coll_id                           division\n",
       "1967    3017583    25781  Manuscripts and Archives Division\n",
       "801375  4865623    25781  Manuscripts and Archives Division\n",
       "45664   3087987    25781  Manuscripts and Archives Division\n",
       "801374  4865622    25781  Manuscripts and Archives Division\n",
       "801373  4865621    25781  Manuscripts and Archives Division"
      ]
     },
     "execution_count": 9,
     "metadata": {},
     "output_type": "execute_result"
    }
   ],
   "source": [
    "# look at failing genre_2 scores by collection\n",
    "df[df['genre_2'] == 0.0][['mms_id', 'coll_id', 'division']].sort('coll_id').head()"
   ]
  },
  {
   "cell_type": "markdown",
   "metadata": {},
   "source": [
    "####look at failing scores within a collection<a id=\"g2_scoresincoll\"></a>"
   ]
  },
  {
   "cell_type": "code",
   "execution_count": 13,
   "metadata": {
    "collapsed": false
   },
   "outputs": [
    {
     "data": {
      "text/plain": [
       "mms_id      0\n",
       "coll_id     0\n",
       "division    0\n",
       "dtype: int64"
      ]
     },
     "execution_count": 13,
     "metadata": {},
     "output_type": "execute_result"
    }
   ],
   "source": [
    "# look at failing genre_2 scores within a collection\n",
    "fg2 = df[df['genre_2'] == 0.0][['mms_id', 'coll_id', 'division']]\n",
    "\n",
    "# 25792 is the Friedman-Abeles photograph collection\n",
    "fg2_25792 = fg2[fg2['coll_id'] == 25792][['mms_id','coll_id', 'division']].sort(['mms_id'])\n",
    "\n",
    "# use .count() for report stats; remove .count() for content to export to csv\n",
    "fg2_25792.count()"
   ]
  },
  {
   "cell_type": "markdown",
   "metadata": {
    "collapsed": true
   },
   "source": [
    "##co-occurrences<a id=\"co\"></a>"
   ]
  },
  {
   "cell_type": "code",
   "execution_count": 14,
   "metadata": {
    "collapsed": false
   },
   "outputs": [
    {
     "name": "stdout",
     "output_type": "stream",
     "text": [
      "Records with a genre absent and an identifier present:\n",
      "186485\n",
      "Records with a genre present but no resource type:\n",
      "4597\n",
      "Records with both a genre and a resource type:\n",
      "722745\n"
     ]
    }
   ],
   "source": [
    "print 'Records with a genre absent and an identifier present:'\n",
    "nogenre_ids = df[(df.genre_1 == 0.0) & (df.identifier == 1.0)]\n",
    "print len(nogenre_ids)\n",
    "\n",
    "print 'Records with a genre present but no resource type:'\n",
    "genre_notype = df[(df.genre_1 == 1.0) & (df.typeOfResource == 0.0)]\n",
    "print len(genre_notype)\n",
    "\n",
    "print 'Records with both a genre and a resource type:'\n",
    "genre_type = df[(df.genre_1 == 1.0) & (df.typeOfResource == 1.0)]\n",
    "print len(genre_type)"
   ]
  },
  {
   "cell_type": "code",
   "execution_count": null,
   "metadata": {
    "collapsed": true
   },
   "outputs": [],
   "source": []
  }
 ],
 "metadata": {
  "kernelspec": {
   "display_name": "Python 2",
   "language": "python",
   "name": "python2"
  },
  "language_info": {
   "codemirror_mode": {
    "name": "ipython",
    "version": 2
   },
   "file_extension": ".py",
   "mimetype": "text/x-python",
   "name": "python",
   "nbconvert_exporter": "python",
   "pygments_lexer": "ipython2",
   "version": "2.7.9"
  }
 },
 "nbformat": 4,
 "nbformat_minor": 0
}
